{
  "nbformat": 4,
  "nbformat_minor": 0,
  "metadata": {
    "colab": {
      "provenance": [],
      "name": "homework 7 file .ipynb"
    },
    "kernelspec": {
      "name": "python3",
      "display_name": "Python 3"
    },
    "language_info": {
      "name": "python"
    }
  },
  "cells": [
    {
      "cell_type": "code",
      "execution_count": null,
      "metadata": {
        "colab": {
          "base_uri": "https://localhost:8080/"
        },
        "id": "BXlOTAk16N_Z",
        "outputId": "0eca820e-3763-4e25-cc74-278cbfffd543"
      },
      "outputs": [
        {
          "output_type": "stream",
          "name": "stdout",
          "text": [
            "Tuesday October 29th\n"
          ]
        }
      ],
      "source": [
        "print(\"Tuesday October 29th\")"
      ]
    },
    {
      "cell_type": "code",
      "source": [
        "math_result = 2*5\n",
        "print(math_result)"
      ],
      "metadata": {
        "colab": {
          "base_uri": "https://localhost:8080/"
        },
        "id": "6VL6IKmG6oD4",
        "outputId": "ef313847-4596-49ba-b225-3ce429789fdc"
      },
      "execution_count": null,
      "outputs": [
        {
          "output_type": "stream",
          "name": "stdout",
          "text": [
            "10\n"
          ]
        }
      ]
    },
    {
      "cell_type": "markdown",
      "source": [
        "Using repositories like GitHub plays a crucial role in enhancing computational reproducibility. Computaitonal reproducibility is the ability to replicate results from your code and statistical analyses based on shared methods and data. GitHub provides a robust framework for version control, enabling researchers to track changes in their code, datasets, and documentation over time.\n",
        "\n",
        "The transparency afforded by version control allows others to follow the evolution of a project, making it easier to understand how outcomes were derived. By tagging specific versions of code as releases, researchers can ensure that others are using the exact versions of the tools that produced the original findings. These versions are then able to be stored in a repository which is important for saving and backing up raw data.\n",
        "\n",
        "Publishing on GitHub fosters a community-oriented approach to research. By encouraging open sharing and discussion, it allows for collective scrutiny, which can lead to the identification of errors or improvements that enhance the quality of research outputs.\n",
        "\n",
        "Finally, publishing projects on platforms like GitHub facilitates easier access to methodologies, thus bridging the gap between researchers and practitioners. By providing clear documentation alongside the code, users can better understand the underlying processes, making it simpler to replicate studies."
      ],
      "metadata": {
        "id": "kHLk2WLT7C0L"
      }
    }
  ]
}